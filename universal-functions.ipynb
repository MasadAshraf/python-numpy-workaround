{
 "cells": [
  {
   "attachments": {},
   "cell_type": "markdown",
   "metadata": {},
   "source": [
    "# Numpy Universial Functions\n",
    "- add(x1, x2)\n",
    "- subtract(x1, x2)\n",
    "- numpy.sqrt\n",
    "- exp\n",
    "- log, log10, log2, log1p\n",
    "- sin, cos, tan\n",
    "- arcsin, arccos, arctan\n",
    "- sinh, cosh, tanh\n",
    "- floor, ceil\n",
    "- round\n",
    "- isnan, isfinite, isinf\n",
    "- minimum, maximum\n",
    "- add, subtract, multiply, divide, power\n",
    "- greater, greater_equal, less, less_equal, equal, not_equal\n",
    "- copysign\n",
    "- nextafter\n",
    "- logaddexp, logaddexp2\n",
    "- fabs\n",
    "- sign\n",
    "- absolute"
   ]
  },
  {
   "cell_type": "code",
   "execution_count": 18,
   "metadata": {},
   "outputs": [
    {
     "data": {
      "text/plain": [
       "array([[ 6,  6],\n",
       "       [ 5, 10]])"
      ]
     },
     "metadata": {},
     "output_type": "display_data"
    },
    {
     "data": {
      "text/plain": [
       "array([[ 6,  6],\n",
       "       [ 5, 10]])"
      ]
     },
     "metadata": {},
     "output_type": "display_data"
    }
   ],
   "source": [
    "#1 add\n",
    "\n",
    "import numpy as np\n",
    "\n",
    "m_1 = np.arange(4).reshape(2,2)\n",
    "\n",
    "m_2 = np.random.randint(0,10,(2,2))\n",
    "\n",
    "\n",
    "display(np.add(m_1,m_2))\n",
    "display(m_1 + m_2)"
   ]
  },
  {
   "cell_type": "code",
   "execution_count": 29,
   "metadata": {},
   "outputs": [
    {
     "data": {
      "text/plain": [
       "array([[0, 1],\n",
       "       [2, 3]])"
      ]
     },
     "metadata": {},
     "output_type": "display_data"
    },
    {
     "data": {
      "text/plain": [
       "array([[8, 5],\n",
       "       [1, 6]])"
      ]
     },
     "metadata": {},
     "output_type": "display_data"
    },
    {
     "data": {
      "text/plain": [
       "array([[-8, -4],\n",
       "       [ 1, -3]])"
      ]
     },
     "execution_count": 29,
     "metadata": {},
     "output_type": "execute_result"
    }
   ],
   "source": [
    "#2 subtract\n",
    "\n",
    "m_1 = np.arange(4).reshape(2,2)\n",
    "\n",
    "m_2 = np.random.randint(0,10,(2,2))\n",
    "display(m_1)\n",
    "display(m_2)\n",
    "\n",
    "np.subtract(m_1,m_2)"
   ]
  },
  {
   "cell_type": "code",
   "execution_count": 38,
   "metadata": {},
   "outputs": [
    {
     "data": {
      "text/plain": [
       "array([[0, 1, 2],\n",
       "       [3, 4, 5],\n",
       "       [6, 7, 8]])"
      ]
     },
     "metadata": {},
     "output_type": "display_data"
    },
    {
     "data": {
      "text/plain": [
       "array([[0.        , 1.        , 1.41421356],\n",
       "       [1.73205081, 2.        , 2.23606798],\n",
       "       [2.44948974, 2.64575131, 2.82842712]])"
      ]
     },
     "metadata": {},
     "output_type": "display_data"
    }
   ],
   "source": [
    "#3 sqrt  ... square root\n",
    "\n",
    "m_2 = np.arange(3*3).reshape(3,3)\n",
    "\n",
    "display(m_2)\n",
    "\n",
    "display(np.sqrt(m_2))"
   ]
  },
  {
   "cell_type": "code",
   "execution_count": 10,
   "metadata": {},
   "outputs": [
    {
     "data": {
      "text/plain": [
       "array([[1.86744273e-03+4.57391553e-19j, 2.12018428e-03+5.19295378e-19j,\n",
       "        2.40713211e-03+5.89577328e-19j, ...,\n",
       "        4.15432121e+02+1.01751523e-13j, 4.71657115e+02+1.15522675e-13j,\n",
       "        5.35491656e+02+1.31157628e-13j],\n",
       "       [1.85241881e-03+2.36404157e-04j, 2.10312700e-03+2.68399330e-04j,\n",
       "        2.38776629e-03+3.04724760e-04j, ...,\n",
       "        4.12089892e+02+5.25905715e+01j, 4.67862545e+02+5.97082315e+01j,\n",
       "        5.31183525e+02+6.77892025e+01j],\n",
       "       [1.80758877e-03+4.69004483e-04j, 2.05222962e-03+5.32480014e-04j,\n",
       "        2.32998040e-03+6.04546385e-04j, ...,\n",
       "        4.02116982e+02+1.04334941e+02j, 4.56539892e+02+1.18455735e+02j,\n",
       "        5.18328453e+02+1.34487651e+02j],\n",
       "       ...,\n",
       "       [1.80758877e-03-4.69004483e-04j, 2.05222962e-03-5.32480014e-04j,\n",
       "        2.32998040e-03-6.04546385e-04j, ...,\n",
       "        4.02116982e+02-1.04334941e+02j, 4.56539892e+02-1.18455735e+02j,\n",
       "        5.18328453e+02-1.34487651e+02j],\n",
       "       [1.85241881e-03-2.36404157e-04j, 2.10312700e-03-2.68399330e-04j,\n",
       "        2.38776629e-03-3.04724760e-04j, ...,\n",
       "        4.12089892e+02-5.25905715e+01j, 4.67862545e+02-5.97082315e+01j,\n",
       "        5.31183525e+02-6.77892025e+01j],\n",
       "       [1.86744273e-03-4.57391553e-19j, 2.12018428e-03-5.19295378e-19j,\n",
       "        2.40713211e-03-5.89577328e-19j, ...,\n",
       "        4.15432121e+02-1.01751523e-13j, 4.71657115e+02-1.15522675e-13j,\n",
       "        5.35491656e+02-1.31157628e-13j]])"
      ]
     },
     "metadata": {},
     "output_type": "display_data"
    }
   ],
   "source": [
    "#4 exp\n",
    "\n",
    "import matplotlib.pyplot as plt\n",
    "import numpy as np\n",
    "\n",
    "x = np.linspace(-2*np.pi, 2*np.pi, 100)\n",
    "#display(x)\n",
    "\n",
    "xx = x + 1j * x[:, np.newaxis] # a + ib over complex plane\n",
    "\n",
    "out = np.exp(xx)\n",
    "display(out)"
   ]
  },
  {
   "cell_type": "code",
   "execution_count": 5,
   "metadata": {},
   "outputs": [
    {
     "name": "stderr",
     "output_type": "stream",
     "text": [
      "/tmp/ipykernel_244397/3600734746.py:3: RuntimeWarning: divide by zero encountered in log\n",
      "  np.log([1, np.e, np.e**2, 0])\n",
      "/tmp/ipykernel_244397/3600734746.py:5: RuntimeWarning: invalid value encountered in log10\n",
      "  np.log10([1e-15, -3.])\n",
      "/tmp/ipykernel_244397/3600734746.py:8: RuntimeWarning: divide by zero encountered in log2\n",
      "  np.log2(x)\n"
     ]
    },
    {
     "data": {
      "text/plain": [
       "0.0"
      ]
     },
     "execution_count": 5,
     "metadata": {},
     "output_type": "execute_result"
    }
   ],
   "source": [
    "#5 log, log10, log2, log1p\n",
    "import numpy as np\n",
    "np.log([1, np.e, np.e**2, 0])\n",
    "\n",
    "np.log10([1e-15, -3.])\n",
    "\n",
    "x = np.array([0, 1, 2, 2**4])\n",
    "np.log2(x)\n",
    "\n",
    "np.log1p(1e-99)\n",
    "1e-99\n",
    "np.log(1 + 1e-99)"
   ]
  },
  {
   "cell_type": "code",
   "execution_count": 10,
   "metadata": {},
   "outputs": [
    {
     "data": {
      "text/plain": [
       "array([0.        , 0.5       , 0.70710678, 0.8660254 , 1.        ])"
      ]
     },
     "metadata": {},
     "output_type": "display_data"
    },
    {
     "data": {
      "text/plain": [
       "array([1.00000000e+00, 8.66025404e-01, 7.07106781e-01, 5.00000000e-01,\n",
       "       6.12323400e-17])"
      ]
     },
     "metadata": {},
     "output_type": "display_data"
    },
    {
     "data": {
      "text/plain": [
       "array([0.00000000e+00, 5.77350269e-01, 1.00000000e+00, 1.73205081e+00,\n",
       "       1.63312394e+16])"
      ]
     },
     "metadata": {},
     "output_type": "display_data"
    }
   ],
   "source": [
    "#6 sin, cos, tan\n",
    "np.sin(np.pi/2.)\n",
    "\n",
    "display(np.sin(np.array((0., 30., 45., 60., 90.)) * np.pi / 180. ))\n",
    "\n",
    "display(np.cos(np.array((0., 30., 45., 60., 90.)) * np.pi / 180. ))\n",
    "\n",
    "display(np.tan(np.array((0., 30., 45., 60., 90.)) * np.pi / 180. ))"
   ]
  },
  {
   "cell_type": "code",
   "execution_count": 12,
   "metadata": {},
   "outputs": [
    {
     "data": {
      "text/plain": [
       "1.5707963267948966"
      ]
     },
     "metadata": {},
     "output_type": "display_data"
    },
    {
     "data": {
      "text/plain": [
       "0.7853981633974483"
      ]
     },
     "metadata": {},
     "output_type": "display_data"
    },
    {
     "data": {
      "text/plain": [
       "0.0"
      ]
     },
     "metadata": {},
     "output_type": "display_data"
    }
   ],
   "source": [
    "#7 arcsin, arccos, arctan\n",
    "display(np.arcsin(1) )\n",
    "display(np.arctan(1) )\n",
    "display(np.arccos(1) )\n",
    "\n"
   ]
  },
  {
   "cell_type": "code",
   "execution_count": 14,
   "metadata": {},
   "outputs": [
    {
     "data": {
      "text/plain": [
       "0.0"
      ]
     },
     "metadata": {},
     "output_type": "display_data"
    },
    {
     "data": {
      "text/plain": [
       "1j"
      ]
     },
     "metadata": {},
     "output_type": "display_data"
    },
    {
     "data": {
      "text/plain": [
       "0.0"
      ]
     },
     "metadata": {},
     "output_type": "display_data"
    }
   ],
   "source": [
    "#8 sinh, cosh, tanh\n",
    "\n",
    "display(np.sinh(0))\n",
    "display(np.sinh(np.pi*1j/2))\n",
    "display(np.tanh(0))\n"
   ]
  },
  {
   "cell_type": "code",
   "execution_count": 17,
   "metadata": {},
   "outputs": [
    {
     "data": {
      "text/plain": [
       "array([-2., -2., -1.,  0.,  1.,  1.,  2.])"
      ]
     },
     "metadata": {},
     "output_type": "display_data"
    },
    {
     "data": {
      "text/plain": [
       "array([-1., -1., -0.,  1.,  2.,  2.,  2.])"
      ]
     },
     "metadata": {},
     "output_type": "display_data"
    }
   ],
   "source": [
    "#9 floor, ceil\n",
    "\n",
    "a = np.array([-1.7, -1.5, -0.2, 0.2, 1.5, 1.7, 2.0])\n",
    "display(np.floor(a))\n",
    "\n",
    "display(np.ceil(a))\n"
   ]
  },
  {
   "cell_type": "code",
   "execution_count": 25,
   "metadata": {},
   "outputs": [
    {
     "data": {
      "text/plain": [
       "56294995342131.51"
      ]
     },
     "execution_count": 25,
     "metadata": {},
     "output_type": "execute_result"
    }
   ],
   "source": [
    "#10 round\n",
    "\n",
    "np.round(56294995342131.5,3)\n",
    "\n"
   ]
  },
  {
   "cell_type": "code",
   "execution_count": 30,
   "metadata": {},
   "outputs": [
    {
     "name": "stderr",
     "output_type": "stream",
     "text": [
      "/tmp/ipykernel_244397/174175958.py:4: RuntimeWarning: invalid value encountered in log\n",
      "  np.isnan([np.log(-1.),1.,np.log(0)])\n",
      "/tmp/ipykernel_244397/174175958.py:4: RuntimeWarning: divide by zero encountered in log\n",
      "  np.isnan([np.log(-1.),1.,np.log(0)])\n"
     ]
    },
    {
     "data": {
      "text/plain": [
       "array([ True, False, False])"
      ]
     },
     "execution_count": 30,
     "metadata": {},
     "output_type": "execute_result"
    }
   ],
   "source": [
    "#11 isnan, isfinite, isinf\n",
    "#np.nan\n",
    "#np.inf\n",
    "np.isnan([np.log(-1.),1.,np.log(0)])"
   ]
  },
  {
   "cell_type": "code",
   "execution_count": 33,
   "metadata": {},
   "outputs": [
    {
     "data": {
      "text/plain": [
       "array([1, 3, 2])"
      ]
     },
     "metadata": {},
     "output_type": "display_data"
    },
    {
     "data": {
      "text/plain": [
       "array([2, 5, 4])"
      ]
     },
     "metadata": {},
     "output_type": "display_data"
    }
   ],
   "source": [
    "#12 minimum, maximum\n",
    "display(np.minimum([2, 3, 4], [1, 5, 2]))\n",
    "display(np.maximum([2, 3, 4], [1, 5, 2]))"
   ]
  },
  {
   "cell_type": "code",
   "execution_count": 35,
   "metadata": {},
   "outputs": [
    {
     "data": {
      "text/plain": [
       "5.0"
      ]
     },
     "metadata": {},
     "output_type": "display_data"
    },
    {
     "data": {
      "text/plain": [
       "-3.0"
      ]
     },
     "metadata": {},
     "output_type": "display_data"
    },
    {
     "data": {
      "text/plain": [
       "4.0"
      ]
     },
     "metadata": {},
     "output_type": "display_data"
    },
    {
     "data": {
      "text/plain": [
       "1.0"
      ]
     },
     "metadata": {},
     "output_type": "display_data"
    },
    {
     "data": {
      "text/plain": [
       "0.25"
      ]
     },
     "metadata": {},
     "output_type": "display_data"
    }
   ],
   "source": [
    "#13 add, subtract, multiply, divide, power\n",
    "\n",
    "\n",
    "\n",
    "\n",
    "\n",
    "display(np.add(1.0, 4.0))\n",
    "display(np.subtract(1.0, 4.0))\n",
    "display(np.multiply(1.0, 4.0))\n",
    "display(np.power(1.0, 4.0))\n",
    "display(np.divide(1.0, 4.0))"
   ]
  },
  {
   "cell_type": "code",
   "execution_count": 36,
   "metadata": {},
   "outputs": [
    {
     "data": {
      "text/plain": [
       "array([ True, False])"
      ]
     },
     "metadata": {},
     "output_type": "display_data"
    },
    {
     "data": {
      "text/plain": [
       "array([ True,  True])"
      ]
     },
     "metadata": {},
     "output_type": "display_data"
    },
    {
     "data": {
      "text/plain": [
       "array([False, False])"
      ]
     },
     "metadata": {},
     "output_type": "display_data"
    },
    {
     "data": {
      "text/plain": [
       "array([False,  True])"
      ]
     },
     "metadata": {},
     "output_type": "display_data"
    },
    {
     "data": {
      "text/plain": [
       "array([False,  True])"
      ]
     },
     "metadata": {},
     "output_type": "display_data"
    },
    {
     "data": {
      "text/plain": [
       "array([ True, False])"
      ]
     },
     "metadata": {},
     "output_type": "display_data"
    }
   ],
   "source": [
    "#14 greater, greater_equal, less, less_equal, equal, not_equal\n",
    "display(np.greater([4,2],[2,2]))\n",
    "display(np.greater_equal([4,2],[2,2]))\n",
    "display(np.less([4,2],[2,2]))\n",
    "display(np.less_equal([4,2],[2,2]))\n",
    "display(np.equal([4,2],[2,2]))\n",
    "display(np.not_equal([4,2],[2,2]))"
   ]
  },
  {
   "cell_type": "code",
   "execution_count": 37,
   "metadata": {},
   "outputs": [
    {
     "data": {
      "text/plain": [
       "-1.3"
      ]
     },
     "execution_count": 37,
     "metadata": {},
     "output_type": "execute_result"
    }
   ],
   "source": [
    "#15 copysign\n",
    "np.copysign(1.3, -1)"
   ]
  },
  {
   "cell_type": "code",
   "execution_count": 38,
   "metadata": {},
   "outputs": [
    {
     "data": {
      "text/plain": [
       "1.2999999999999998"
      ]
     },
     "execution_count": 38,
     "metadata": {},
     "output_type": "execute_result"
    }
   ],
   "source": [
    "#16 nextafter\n",
    "np.nextafter(1.3, -1)"
   ]
  },
  {
   "cell_type": "code",
   "execution_count": 42,
   "metadata": {},
   "outputs": [
    {
     "data": {
      "text/plain": [
       "-113.87649168120691"
      ]
     },
     "metadata": {},
     "output_type": "display_data"
    },
    {
     "data": {
      "text/plain": [
       "(-166.09640474436813, -164.77447664948076, -164.28904982231052)"
      ]
     },
     "execution_count": 42,
     "metadata": {},
     "output_type": "execute_result"
    }
   ],
   "source": [
    "#17 logaddexp, logaddexp2\n",
    "\n",
    "prob1 = np.log(1e-50)\n",
    "prob2 = np.log(2.5e-50)\n",
    "prob12 = np.logaddexp(prob1, prob2)\n",
    "display(prob12)\n",
    "\n",
    "prob1 = np.log2(1e-50)\n",
    "prob2 = np.log2(2.5e-50)\n",
    "prob12 = np.logaddexp2(prob1, prob2)\n",
    "prob1, prob2, prob12"
   ]
  },
  {
   "cell_type": "code",
   "execution_count": 45,
   "metadata": {},
   "outputs": [
    {
     "data": {
      "text/plain": [
       "12312312.0"
      ]
     },
     "execution_count": 45,
     "metadata": {},
     "output_type": "execute_result"
    }
   ],
   "source": [
    "#18 fabs\n",
    "\n",
    "np.fabs(-12312312)"
   ]
  },
  {
   "cell_type": "code",
   "execution_count": 46,
   "metadata": {},
   "outputs": [
    {
     "data": {
      "text/plain": [
       "array([-1.,  1.])"
      ]
     },
     "execution_count": 46,
     "metadata": {},
     "output_type": "execute_result"
    }
   ],
   "source": [
    "#19 sign\n",
    "\n",
    "np.sign([-5., 4.5])\n"
   ]
  },
  {
   "cell_type": "code",
   "execution_count": 47,
   "metadata": {},
   "outputs": [
    {
     "data": {
      "text/plain": [
       "array([1.2, 1.2])"
      ]
     },
     "execution_count": 47,
     "metadata": {},
     "output_type": "execute_result"
    }
   ],
   "source": [
    "#20 absolute\n",
    "\n",
    "x = np.array([-1.2, 1.2])\n",
    "np.absolute(x)"
   ]
  }
 ],
 "metadata": {
  "kernelspec": {
   "display_name": "Python 3 (ipykernel)",
   "language": "python",
   "name": "python3"
  },
  "language_info": {
   "codemirror_mode": {
    "name": "ipython",
    "version": 3
   },
   "file_extension": ".py",
   "mimetype": "text/x-python",
   "name": "python",
   "nbconvert_exporter": "python",
   "pygments_lexer": "ipython3",
   "version": "3.8.10"
  },
  "vscode": {
   "interpreter": {
    "hash": "916dbcbb3f70747c44a77c7bcd40155683ae19c65e1c03b4aa3499c5328201f1"
   }
  }
 },
 "nbformat": 4,
 "nbformat_minor": 2
}

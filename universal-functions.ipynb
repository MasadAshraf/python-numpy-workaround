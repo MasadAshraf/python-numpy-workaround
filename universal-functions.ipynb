{
 "cells": [
  {
   "attachments": {},
   "cell_type": "markdown",
   "metadata": {},
   "source": [
    "# Numpy Universial Functions\n",
    "- add(x1, x2)\n",
    "- subtract(x1, x2)\n",
    "- numpy.sqrt\n",
    "- exp\n",
    "- log, log10, log2, log1p\n",
    "- sin, cos, tan\n",
    "- arcsin, arccos, arctan\n",
    "- sinh, cosh, tanh\n",
    "- floor, ceil\n",
    "- round\n",
    "- isnan, isfinite, isinf\n",
    "- minimum, maximum\n",
    "- add, subtract, multiply, divide, power\n",
    "- greater, greater_equal, less, less_equal, equal, not_equal\n",
    "- copysign\n",
    "- nextafter\n",
    "- logaddexp, logaddexp2\n",
    "- fabs\n",
    "- sign\n",
    "- absolute"
   ]
  },
  {
   "cell_type": "code",
   "execution_count": 18,
   "metadata": {},
   "outputs": [
    {
     "data": {
      "text/plain": [
       "array([[ 6,  6],\n",
       "       [ 5, 10]])"
      ]
     },
     "metadata": {},
     "output_type": "display_data"
    },
    {
     "data": {
      "text/plain": [
       "array([[ 6,  6],\n",
       "       [ 5, 10]])"
      ]
     },
     "metadata": {},
     "output_type": "display_data"
    }
   ],
   "source": [
    "#1 add\n",
    "\n",
    "import numpy as np\n",
    "\n",
    "m_1 = np.arange(4).reshape(2,2)\n",
    "\n",
    "m_2 = np.random.randint(0,10,(2,2))\n",
    "\n",
    "\n",
    "display(np.add(m_1,m_2))\n",
    "display(m_1 + m_2)"
   ]
  },
  {
   "cell_type": "code",
   "execution_count": 29,
   "metadata": {},
   "outputs": [
    {
     "data": {
      "text/plain": [
       "array([[0, 1],\n",
       "       [2, 3]])"
      ]
     },
     "metadata": {},
     "output_type": "display_data"
    },
    {
     "data": {
      "text/plain": [
       "array([[8, 5],\n",
       "       [1, 6]])"
      ]
     },
     "metadata": {},
     "output_type": "display_data"
    },
    {
     "data": {
      "text/plain": [
       "array([[-8, -4],\n",
       "       [ 1, -3]])"
      ]
     },
     "execution_count": 29,
     "metadata": {},
     "output_type": "execute_result"
    }
   ],
   "source": [
    "#2 subtract\n",
    "\n",
    "m_1 = np.arange(4).reshape(2,2)\n",
    "\n",
    "m_2 = np.random.randint(0,10,(2,2))\n",
    "display(m_1)\n",
    "display(m_2)\n",
    "\n",
    "np.subtract(m_1,m_2)"
   ]
  },
  {
   "cell_type": "code",
   "execution_count": 38,
   "metadata": {},
   "outputs": [
    {
     "data": {
      "text/plain": [
       "array([[0, 1, 2],\n",
       "       [3, 4, 5],\n",
       "       [6, 7, 8]])"
      ]
     },
     "metadata": {},
     "output_type": "display_data"
    },
    {
     "data": {
      "text/plain": [
       "array([[0.        , 1.        , 1.41421356],\n",
       "       [1.73205081, 2.        , 2.23606798],\n",
       "       [2.44948974, 2.64575131, 2.82842712]])"
      ]
     },
     "metadata": {},
     "output_type": "display_data"
    }
   ],
   "source": [
    "#3 sqrt  ... square root\n",
    "\n",
    "m_2 = np.arange(3*3).reshape(3,3)\n",
    "\n",
    "display(m_2)\n",
    "\n",
    "display(np.sqrt(m_2))"
   ]
  },
  {
   "cell_type": "code",
   "execution_count": 10,
   "metadata": {},
   "outputs": [
    {
     "data": {
      "text/plain": [
       "array([[1.86744273e-03+4.57391553e-19j, 2.12018428e-03+5.19295378e-19j,\n",
       "        2.40713211e-03+5.89577328e-19j, ...,\n",
       "        4.15432121e+02+1.01751523e-13j, 4.71657115e+02+1.15522675e-13j,\n",
       "        5.35491656e+02+1.31157628e-13j],\n",
       "       [1.85241881e-03+2.36404157e-04j, 2.10312700e-03+2.68399330e-04j,\n",
       "        2.38776629e-03+3.04724760e-04j, ...,\n",
       "        4.12089892e+02+5.25905715e+01j, 4.67862545e+02+5.97082315e+01j,\n",
       "        5.31183525e+02+6.77892025e+01j],\n",
       "       [1.80758877e-03+4.69004483e-04j, 2.05222962e-03+5.32480014e-04j,\n",
       "        2.32998040e-03+6.04546385e-04j, ...,\n",
       "        4.02116982e+02+1.04334941e+02j, 4.56539892e+02+1.18455735e+02j,\n",
       "        5.18328453e+02+1.34487651e+02j],\n",
       "       ...,\n",
       "       [1.80758877e-03-4.69004483e-04j, 2.05222962e-03-5.32480014e-04j,\n",
       "        2.32998040e-03-6.04546385e-04j, ...,\n",
       "        4.02116982e+02-1.04334941e+02j, 4.56539892e+02-1.18455735e+02j,\n",
       "        5.18328453e+02-1.34487651e+02j],\n",
       "       [1.85241881e-03-2.36404157e-04j, 2.10312700e-03-2.68399330e-04j,\n",
       "        2.38776629e-03-3.04724760e-04j, ...,\n",
       "        4.12089892e+02-5.25905715e+01j, 4.67862545e+02-5.97082315e+01j,\n",
       "        5.31183525e+02-6.77892025e+01j],\n",
       "       [1.86744273e-03-4.57391553e-19j, 2.12018428e-03-5.19295378e-19j,\n",
       "        2.40713211e-03-5.89577328e-19j, ...,\n",
       "        4.15432121e+02-1.01751523e-13j, 4.71657115e+02-1.15522675e-13j,\n",
       "        5.35491656e+02-1.31157628e-13j]])"
      ]
     },
     "metadata": {},
     "output_type": "display_data"
    }
   ],
   "source": [
    "#4 exp\n",
    "\n",
    "import matplotlib.pyplot as plt\n",
    "import numpy as np\n",
    "\n",
    "x = np.linspace(-2*np.pi, 2*np.pi, 100)\n",
    "#display(x)\n",
    "\n",
    "xx = x + 1j * x[:, np.newaxis] # a + ib over complex plane\n",
    "\n",
    "out = np.exp(xx)\n",
    "display(out)"
   ]
  },
  {
   "cell_type": "code",
   "execution_count": null,
   "metadata": {},
   "outputs": [],
   "source": [
    "#5 log, log10, log2, log1p"
   ]
  },
  {
   "cell_type": "code",
   "execution_count": null,
   "metadata": {},
   "outputs": [],
   "source": [
    "#6 sin, cos, tan\n"
   ]
  },
  {
   "cell_type": "code",
   "execution_count": 11,
   "metadata": {},
   "outputs": [],
   "source": [
    "#7 arcsin, arccos, arctan\n"
   ]
  },
  {
   "cell_type": "code",
   "execution_count": 12,
   "metadata": {},
   "outputs": [],
   "source": [
    "#8 sinh, cosh, tanh\n"
   ]
  },
  {
   "cell_type": "code",
   "execution_count": 13,
   "metadata": {},
   "outputs": [],
   "source": [
    "#9 floor, ceil\n"
   ]
  },
  {
   "cell_type": "code",
   "execution_count": 15,
   "metadata": {},
   "outputs": [],
   "source": [
    "#10 round\n"
   ]
  },
  {
   "cell_type": "code",
   "execution_count": 16,
   "metadata": {},
   "outputs": [],
   "source": [
    "#11 isnan, isfinite, isinf\n"
   ]
  },
  {
   "cell_type": "code",
   "execution_count": 17,
   "metadata": {},
   "outputs": [],
   "source": [
    "#12 minimum, maximum\n"
   ]
  },
  {
   "cell_type": "code",
   "execution_count": 18,
   "metadata": {},
   "outputs": [],
   "source": [
    "#13 add, subtract, multiply, divide, power\n"
   ]
  },
  {
   "cell_type": "code",
   "execution_count": 19,
   "metadata": {},
   "outputs": [],
   "source": [
    "#14 greater, greater_equal, less, less_equal, equal, not_equal\n"
   ]
  },
  {
   "cell_type": "code",
   "execution_count": 20,
   "metadata": {},
   "outputs": [],
   "source": [
    "#15 copysign\n"
   ]
  },
  {
   "cell_type": "code",
   "execution_count": 21,
   "metadata": {},
   "outputs": [],
   "source": [
    "#16 nextafter\n"
   ]
  },
  {
   "cell_type": "code",
   "execution_count": 22,
   "metadata": {},
   "outputs": [],
   "source": [
    "#17 logaddexp, logaddexp2\n"
   ]
  },
  {
   "cell_type": "code",
   "execution_count": 23,
   "metadata": {},
   "outputs": [],
   "source": [
    "#18 fabs\n"
   ]
  },
  {
   "cell_type": "code",
   "execution_count": 24,
   "metadata": {},
   "outputs": [],
   "source": [
    "#19 sign\n"
   ]
  },
  {
   "cell_type": "code",
   "execution_count": null,
   "metadata": {},
   "outputs": [],
   "source": [
    "#20 absolute"
   ]
  }
 ],
 "metadata": {
  "kernelspec": {
   "display_name": "Python 3 (ipykernel)",
   "language": "python",
   "name": "python3"
  },
  "language_info": {
   "codemirror_mode": {
    "name": "ipython",
    "version": 3
   },
   "file_extension": ".py",
   "mimetype": "text/x-python",
   "name": "python",
   "nbconvert_exporter": "python",
   "pygments_lexer": "ipython3",
   "version": "3.8.10"
  },
  "vscode": {
   "interpreter": {
    "hash": "916dbcbb3f70747c44a77c7bcd40155683ae19c65e1c03b4aa3499c5328201f1"
   }
  }
 },
 "nbformat": 4,
 "nbformat_minor": 2
}
